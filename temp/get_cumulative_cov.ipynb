{
 "cells": [
  {
   "cell_type": "code",
   "execution_count": 1,
   "metadata": {},
   "outputs": [],
   "source": [
    "import pandas as pd\n"
   ]
  },
  {
   "cell_type": "code",
   "execution_count": 3,
   "metadata": {},
   "outputs": [],
   "source": [
    "\n",
    "# 假设你已经将数据存储在 DataFrame 中\n",
    "data = {\n",
    "    'gene': ['x']*10 + ['y']*12,\n",
    "    'site': list(range(1, 11)) + list(range(1, 13)),\n",
    "    'a': [4, 5, 10, 3, 10, 1, 9, 4, 7, 2, 5, 2, 3, 4, 5, 6, 4, 6, 7, 5, 3, 5],\n",
    "    'b': [5, 5, 1, 0, 3, 4, 1, 2, 3, 2, 3, 1, 4, 4, 1, 2, 2, 4, 1, 3, 0, 1]\n",
    "}\n"
   ]
  },
  {
   "cell_type": "code",
   "execution_count": null,
   "metadata": {},
   "outputs": [],
   "source": [
    "df = pd.DataFrame(data)\n",
    "\n",
    "# 计算 CoV（变异系数）\n",
    "def calc_cov(df, column):\n",
    "    return df[column].expanding().std() / df[column].expanding().mean()\n",
    "\n",
    "# 对每个基因进行分组计算 CoV\n",
    "df['a_cov'] = df.groupby('gene')['a'].apply(calc_cov)\n",
    "df['b_cov'] = df.groupby('gene')['b'].apply(calc_cov)\n",
    "\n",
    "# 打印结果\n",
    "print(df)\n"
   ]
  }
 ],
 "metadata": {
  "kernelspec": {
   "display_name": "ribo",
   "language": "python",
   "name": "python3"
  },
  "language_info": {
   "codemirror_mode": {
    "name": "ipython",
    "version": 3
   },
   "file_extension": ".py",
   "mimetype": "text/x-python",
   "name": "python",
   "nbconvert_exporter": "python",
   "pygments_lexer": "ipython3",
   "version": "3.12.3"
  }
 },
 "nbformat": 4,
 "nbformat_minor": 2
}
